{
  "nbformat": 4,
  "nbformat_minor": 0,
  "metadata": {
    "colab": {
      "name": "Untitled0.ipynb",
      "provenance": [],
      "authorship_tag": "ABX9TyMA6UvEXCAaEjkwo6F5Pdjd",
      "include_colab_link": true
    },
    "kernelspec": {
      "name": "python3",
      "display_name": "Python 3"
    },
    "language_info": {
      "name": "python"
    }
  },
  "cells": [
    {
      "cell_type": "markdown",
      "metadata": {
        "id": "view-in-github",
        "colab_type": "text"
      },
      "source": [
        "<a href=\"https://colab.research.google.com/github/hbaghett/PR_1_IOT/blob/master/ML_Regresion_celcius-fahrenheit.ipynb\" target=\"_parent\"><img src=\"https://colab.research.google.com/assets/colab-badge.svg\" alt=\"Open In Colab\"/></a>"
      ]
    },
    {
      "cell_type": "code",
      "metadata": {
        "id": "O0fFL7ORenoZ",
        "colab": {
          "base_uri": "https://localhost:8080/"
        },
        "outputId": "b540c8cc-0d2e-4a22-c758-2c1bf65c686c"
      },
      "source": [
        "# ejemplo de modelo de regresion : por que arroj a un numero de result\n",
        "# importamos libreria para Machine learning\n",
        "# importamos numpy para trabajar con arreglos\n",
        "import tensorflow as tf\n",
        "import numpy as np\n",
        "\n",
        "celsius = np.array ([-40, -10, 0, 8, 15, 22, 38], dtype = float)\n",
        "fahrenheit = np.array ([-40, 14, 32, 46, 59, 72, 100], dtype = float)\n",
        "\n",
        "#agregaremos una capa de tipo densa (que cada neurona o nodo origen \n",
        "#interactua con todos las neuronas destino)\n",
        "# units = 1 -> cantidad de neuronas de la capa (1 columna)\n",
        "# input_shape = [1] -> una entrada con una neurona\n",
        "capa = tf.keras.layers.Dense(units=1, input_shape=[1])\n",
        "#crearemos un modelo de tipo secuencial\n",
        "modelo = tf.keras.Sequential([capa])\n",
        "\n",
        "modelo.compile(\n",
        "    optimizer=tf.keras.optimizers.Adam(0.1),\n",
        "    loss='mean_squared_error'\n",
        ")\n",
        "\n",
        "print(\"Comenzando entrenamiento...\")\n",
        "historial = modelo.fit(celsius, fahrenheit, epochs=1000, verbose=False)\n",
        "print(\"Modelo entrenado\")\n",
        "\n"
      ],
      "execution_count": 9,
      "outputs": [
        {
          "output_type": "stream",
          "name": "stdout",
          "text": [
            "Comenzando entrenamiento...\n",
            "Modelo entrenado\n"
          ]
        }
      ]
    },
    {
      "cell_type": "code",
      "metadata": {
        "colab": {
          "base_uri": "https://localhost:8080/",
          "height": 296
        },
        "id": "KKHznCfcmRNZ",
        "outputId": "987301b4-1579-47ee-cba7-eaa4397967a4"
      },
      "source": [
        "#analizaremos como esta el nivel de aprendizaje\n",
        "import matplotlib.pyplot as plt\n",
        "plt.xlabel(\"# Epoca\")\n",
        "plt.ylabel(\"Magnitud de perdida\")\n",
        "plt.plot(historial.history[\"loss\"])\n"
      ],
      "execution_count": 11,
      "outputs": [
        {
          "output_type": "execute_result",
          "data": {
            "text/plain": [
              "[<matplotlib.lines.Line2D at 0x7fd73b8c31d0>]"
            ]
          },
          "metadata": {},
          "execution_count": 11
        },
        {
          "output_type": "display_data",
          "data": {
            "image/png": "[encoded data removed]",
            "text/plain": [
              "<Figure size 432x288 with 1 Axes>"
            ]
          },
          "metadata": {
            "needs_background": "light"
          }
        }
      ]
    },
    {
      "cell_type": "code",
      "metadata": {
        "colab": {
          "base_uri": "https://localhost:8080/"
        },
        "id": "7ZmHvv3DnZun",
        "outputId": "6987e8b0-3e12-490e-e7f8-66b72c2ad92a"
      },
      "source": [
        "print(\"hagamos una prediccion\")\n",
        "resultado = modelo.predict([150.0])\n",
        "print(\"el resultado es \" + str(resultado) + \" fahrenheit\")\n"
      ],
      "execution_count": 13,
      "outputs": [
        {
          "output_type": "stream",
          "name": "stdout",
          "text": [
            "hagamos una prediccion\n",
            "el resultado es [[301.6506]] fahrenheit\n"
          ]
        }
      ]
    }
  ]
}